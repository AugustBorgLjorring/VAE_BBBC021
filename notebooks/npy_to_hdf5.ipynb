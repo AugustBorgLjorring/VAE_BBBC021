{
 "cells": [
  {
   "cell_type": "code",
   "execution_count": null,
   "metadata": {},
   "outputs": [
    {
     "name": "stdout",
     "output_type": "stream",
     "text": [
      "\n",
      "Found .npy in second-level folder: B02_s1_w16F89C55C-7808-4136-82E4-E066F8E3CB10_0.npy\n",
      "Image Path: D:/BBBC021/singlecell/singh_cp_pipeline_singlecell_images\\B02_s1_w16F89C55C-7808-4136-82E4-E066F8E3CB10\\B02_s1_w16F89C55C-7808-4136-82E4-E066F8E3CB10_0.npy\n",
      "Image Shape: (68, 68, 3)\n",
      "Image Data Type: uint16\n",
      "Min Pixel Value: 608\n",
      "Max Pixel Value: 8352\n"
     ]
    }
   ],
   "source": [
    "import os\n",
    "import numpy as np\n",
    "\n",
    "input_dir = \"D:/BBBC021/singlecell/singh_cp_pipeline_singlecell_images\"\n",
    "\n",
    "found_image = False\n",
    "\n",
    "# Walk through the input directory and its subdirectories\n",
    "for root, dirs, files in os.walk(input_dir):\n",
    "    for file in files:\n",
    "        if file.endswith(\".npy\"):\n",
    "            image_path = os.path.join(root, file)\n",
    "            image = np.load(image_path)\n",
    "            print(f\"\\nFound .npy in second-level folder: {file}\")\n",
    "            print(f\"Image Path: {image_path}\")\n",
    "            print(f\"Image Shape: {image.shape}\")\n",
    "            print(f\"Image Data Type: {image.dtype}\")\n",
    "            print(f\"Min Pixel Value: {image.min()}\")\n",
    "            print(f\"Max Pixel Value: {image.max()}\")\n",
    "\n",
    "            found_image = True\n",
    "            break\n",
    "    if found_image:\n",
    "        break"
   ]
  },
  {
   "cell_type": "code",
   "execution_count": null,
   "metadata": {},
   "outputs": [
    {
     "name": "stdout",
     "output_type": "stream",
     "text": [
      "Found 488396 .npy files.\n"
     ]
    },
    {
     "name": "stderr",
     "output_type": "stream",
     "text": [
      "Processing Images: 100%|██████████| 488396/488396 [29:15<00:00, 278.14file/s]\n"
     ]
    },
    {
     "name": "stdout",
     "output_type": "stream",
     "text": [
      "Stored 488396 images in BBBC021_dataset.h5\n"
     ]
    }
   ],
   "source": [
    "import os\n",
    "import h5py\n",
    "import numpy as np\n",
    "from tqdm import tqdm\n",
    "\n",
    "input_dir = \"D:/BBBC021/singlecell/singh_cp_pipeline_singlecell_images\"\n",
    "# save in BBBC021 directory\n",
    "output_file = \"D:/BBBC021/BBBC021_dataset.h5\"\n",
    "\n",
    "# Build a list of all .npy file paths and names (no generator used)\n",
    "file_paths = []\n",
    "file_names = []\n",
    "for root, dirs, files in os.walk(input_dir):\n",
    "    for file in files:\n",
    "        if file.endswith('.npy'):\n",
    "            file_paths.append(os.path.join(root, file))\n",
    "            file_names.append(file)  # only the file name\n",
    "\n",
    "total_files = len(file_paths)\n",
    "print(f\"Found {total_files} .npy files.\")\n",
    "\n",
    "# Define expected image shape and data type (from your example)\n",
    "img_shape = (68, 68, 3)\n",
    "img_dtype = np.uint16\n",
    "\n",
    "with h5py.File(output_file, 'w') as h5f:\n",
    "    # Create resizable datasets for images and names\n",
    "    image_dataset = h5f.create_dataset(\n",
    "        'images',\n",
    "        shape=(0, *img_shape),\n",
    "        maxshape=(total_files, *img_shape),\n",
    "        dtype=img_dtype,\n",
    "        chunks=(1, *img_shape),\n",
    "        compression='gzip'\n",
    "    )\n",
    "\n",
    "    name_dataset = h5f.create_dataset(\n",
    "        'image_names',\n",
    "        shape=(0,),\n",
    "        maxshape=(total_files,),\n",
    "        dtype=h5py.string_dtype(),\n",
    "        compression='gzip'\n",
    "    )\n",
    "\n",
    "    # Process each file and write it to the HDF5 file one by one\n",
    "    index = 0\n",
    "    for file_path, file_name in tqdm(zip(file_paths, file_names), total=total_files, desc=\"Processing Images\", unit=\"file\"):\n",
    "        data = np.load(file_path)\n",
    "        \n",
    "        # Resize datasets to add a new entry\n",
    "        image_dataset.resize(index + 1, axis=0)\n",
    "        name_dataset.resize(index + 1, axis=0)\n",
    "        \n",
    "        # Store the image and its name\n",
    "        image_dataset[index] = data\n",
    "        name_dataset[index] = file_name\n",
    "        \n",
    "        index += 1\n",
    "\n",
    "print(f\"Stored {index} images in {output_file}\")"
   ]
  }
 ],
 "metadata": {
  "kernelspec": {
   "display_name": "VAE",
   "language": "python",
   "name": "python3"
  },
  "language_info": {
   "codemirror_mode": {
    "name": "ipython",
    "version": 3
   },
   "file_extension": ".py",
   "mimetype": "text/x-python",
   "name": "python",
   "nbconvert_exporter": "python",
   "pygments_lexer": "ipython3",
   "version": "3.12.9"
  }
 },
 "nbformat": 4,
 "nbformat_minor": 2
}
